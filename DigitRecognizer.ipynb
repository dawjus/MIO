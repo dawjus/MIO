{
 "cells": [
  {
   "cell_type": "code",
   "execution_count": 2,
   "metadata": {},
   "outputs": [
    {
     "name": "stderr",
     "output_type": "stream",
     "text": [
      "Using TensorFlow backend.\n",
      "C:\\Users\\dawid\\anaconda3\\lib\\site-packages\\tensorflow\\python\\framework\\dtypes.py:516: FutureWarning: Passing (type, 1) or '1type' as a synonym of type is deprecated; in a future version of numpy, it will be understood as (type, (1,)) / '(1,)type'.\n",
      "  _np_qint8 = np.dtype([(\"qint8\", np.int8, 1)])\n",
      "C:\\Users\\dawid\\anaconda3\\lib\\site-packages\\tensorflow\\python\\framework\\dtypes.py:517: FutureWarning: Passing (type, 1) or '1type' as a synonym of type is deprecated; in a future version of numpy, it will be understood as (type, (1,)) / '(1,)type'.\n",
      "  _np_quint8 = np.dtype([(\"quint8\", np.uint8, 1)])\n",
      "C:\\Users\\dawid\\anaconda3\\lib\\site-packages\\tensorflow\\python\\framework\\dtypes.py:518: FutureWarning: Passing (type, 1) or '1type' as a synonym of type is deprecated; in a future version of numpy, it will be understood as (type, (1,)) / '(1,)type'.\n",
      "  _np_qint16 = np.dtype([(\"qint16\", np.int16, 1)])\n",
      "C:\\Users\\dawid\\anaconda3\\lib\\site-packages\\tensorflow\\python\\framework\\dtypes.py:519: FutureWarning: Passing (type, 1) or '1type' as a synonym of type is deprecated; in a future version of numpy, it will be understood as (type, (1,)) / '(1,)type'.\n",
      "  _np_quint16 = np.dtype([(\"quint16\", np.uint16, 1)])\n",
      "C:\\Users\\dawid\\anaconda3\\lib\\site-packages\\tensorflow\\python\\framework\\dtypes.py:520: FutureWarning: Passing (type, 1) or '1type' as a synonym of type is deprecated; in a future version of numpy, it will be understood as (type, (1,)) / '(1,)type'.\n",
      "  _np_qint32 = np.dtype([(\"qint32\", np.int32, 1)])\n",
      "C:\\Users\\dawid\\anaconda3\\lib\\site-packages\\tensorflow\\python\\framework\\dtypes.py:525: FutureWarning: Passing (type, 1) or '1type' as a synonym of type is deprecated; in a future version of numpy, it will be understood as (type, (1,)) / '(1,)type'.\n",
      "  np_resource = np.dtype([(\"resource\", np.ubyte, 1)])\n",
      "C:\\Users\\dawid\\anaconda3\\lib\\site-packages\\tensorboard\\compat\\tensorflow_stub\\dtypes.py:541: FutureWarning: Passing (type, 1) or '1type' as a synonym of type is deprecated; in a future version of numpy, it will be understood as (type, (1,)) / '(1,)type'.\n",
      "  _np_qint8 = np.dtype([(\"qint8\", np.int8, 1)])\n",
      "C:\\Users\\dawid\\anaconda3\\lib\\site-packages\\tensorboard\\compat\\tensorflow_stub\\dtypes.py:542: FutureWarning: Passing (type, 1) or '1type' as a synonym of type is deprecated; in a future version of numpy, it will be understood as (type, (1,)) / '(1,)type'.\n",
      "  _np_quint8 = np.dtype([(\"quint8\", np.uint8, 1)])\n",
      "C:\\Users\\dawid\\anaconda3\\lib\\site-packages\\tensorboard\\compat\\tensorflow_stub\\dtypes.py:543: FutureWarning: Passing (type, 1) or '1type' as a synonym of type is deprecated; in a future version of numpy, it will be understood as (type, (1,)) / '(1,)type'.\n",
      "  _np_qint16 = np.dtype([(\"qint16\", np.int16, 1)])\n",
      "C:\\Users\\dawid\\anaconda3\\lib\\site-packages\\tensorboard\\compat\\tensorflow_stub\\dtypes.py:544: FutureWarning: Passing (type, 1) or '1type' as a synonym of type is deprecated; in a future version of numpy, it will be understood as (type, (1,)) / '(1,)type'.\n",
      "  _np_quint16 = np.dtype([(\"quint16\", np.uint16, 1)])\n",
      "C:\\Users\\dawid\\anaconda3\\lib\\site-packages\\tensorboard\\compat\\tensorflow_stub\\dtypes.py:545: FutureWarning: Passing (type, 1) or '1type' as a synonym of type is deprecated; in a future version of numpy, it will be understood as (type, (1,)) / '(1,)type'.\n",
      "  _np_qint32 = np.dtype([(\"qint32\", np.int32, 1)])\n",
      "C:\\Users\\dawid\\anaconda3\\lib\\site-packages\\tensorboard\\compat\\tensorflow_stub\\dtypes.py:550: FutureWarning: Passing (type, 1) or '1type' as a synonym of type is deprecated; in a future version of numpy, it will be understood as (type, (1,)) / '(1,)type'.\n",
      "  np_resource = np.dtype([(\"resource\", np.ubyte, 1)])\n"
     ]
    }
   ],
   "source": [
    "import numpy as np\n",
    "import pandas as pd\n",
    "import matplotlib.pyplot as plt\n",
    "import os\n",
    "import keras\n",
    "from keras import layers\n",
    "from keras.models import Sequential\n",
    "from keras.layers import Dense\n",
    "from keras.optimizers import Adam\n",
    "from keras.utils import to_categorical \n",
    "from sklearn.model_selection import train_test_split\n",
    "\n",
    "#POBRANIE NASZYCH DANYCH\n",
    "train_df = pd.read_csv(\"train.csv\")\n",
    "test_df = pd.read_csv(\"test.csv\")\n",
    "X_train = (train_df.drop(columns= ['label'])).values\n",
    "\n",
    "#Rzeczywiste wartości cyfr\n",
    "y_train = train_df['label'].values\n",
    "X_train = X_train.reshape((42000,28,28))  #Tworzymy macierz 28x28 z ktorej powstanie obraz  \n",
    "\n",
    "#Przeobienie testowych wartości\n",
    "X_test = test_df.values\n",
    "X_test = X_test.reshape((28000, 28,28))\n",
    "\n",
    "#Normalizujemy zeby miec wrtości wejsciowe z zakresu (0,1)\n",
    "X_train = X_train /  255\n",
    "X_test =  X_test /  255\n"
   ]
  },
  {
   "cell_type": "code",
   "execution_count": 3,
   "metadata": {},
   "outputs": [],
   "source": [
    "#dzielimy nasze dane na dwa zbiory \n",
    "X_train, X_val, y_train, y_val = train_test_split(X_train, y_train, test_size=0.25, random_state=1)"
   ]
  },
  {
   "cell_type": "code",
   "execution_count": 4,
   "metadata": {},
   "outputs": [],
   "source": [
    "X_train = X_train.reshape(X_train.shape[0],28*28)\n",
    "X_val = X_val.reshape(X_val.shape[0], 28*28)\n",
    "y_train = to_categorical(y_train, 10)\n",
    "y_val = to_categorical(y_val, 10)"
   ]
  },
  {
   "cell_type": "code",
   "execution_count": 5,
   "metadata": {},
   "outputs": [],
   "source": [
    "def create_model():\n",
    "  model = Sequential()\n",
    "  model.add(Dense(100, input_dim = 28*28, activation = 'relu'))\n",
    "  model.add(Dense(50, activation='relu'))\n",
    "  model.add(Dense(20, activation='relu'))\n",
    "  model.add(Dense(10, activation='softmax'))\n",
    "  model.compile(Adam(lr=0.01), loss='categorical_crossentropy', metrics=['accuracy'])  \n",
    "  return model"
   ]
  },
  {
   "cell_type": "code",
   "execution_count": 6,
   "metadata": {},
   "outputs": [],
   "source": [
    "model = create_model()"
   ]
  },
  {
   "cell_type": "code",
   "execution_count": 7,
   "metadata": {},
   "outputs": [
    {
     "name": "stdout",
     "output_type": "stream",
     "text": [
      "WARNING:tensorflow:From C:\\Users\\dawid\\anaconda3\\lib\\site-packages\\keras\\backend\\tensorflow_backend.py:422: The name tf.global_variables is deprecated. Please use tf.compat.v1.global_variables instead.\n",
      "\n",
      "Train on 28350 samples, validate on 3150 samples\n",
      "Epoch 1/15\n",
      "28350/28350 [==============================] - 1s 42us/step - loss: 0.7584 - accuracy: 0.7590 - val_loss: 0.3083 - val_accuracy: 0.9063\n",
      "Epoch 2/15\n",
      "28350/28350 [==============================] - 1s 25us/step - loss: 0.2205 - accuracy: 0.9340 - val_loss: 0.2085 - val_accuracy: 0.9384\n",
      "Epoch 3/15\n",
      "28350/28350 [==============================] - 1s 24us/step - loss: 0.1472 - accuracy: 0.9557 - val_loss: 0.1698 - val_accuracy: 0.9505\n",
      "Epoch 4/15\n",
      "28350/28350 [==============================] - 1s 26us/step - loss: 0.1057 - accuracy: 0.9684 - val_loss: 0.1703 - val_accuracy: 0.9511\n",
      "Epoch 5/15\n",
      "28350/28350 [==============================] - 1s 27us/step - loss: 0.0857 - accuracy: 0.9742 - val_loss: 0.1602 - val_accuracy: 0.9527\n",
      "Epoch 6/15\n",
      "28350/28350 [==============================] - 1s 24us/step - loss: 0.0675 - accuracy: 0.9787 - val_loss: 0.1486 - val_accuracy: 0.9587\n",
      "Epoch 7/15\n",
      "28350/28350 [==============================] - 1s 26us/step - loss: 0.0568 - accuracy: 0.9818 - val_loss: 0.1398 - val_accuracy: 0.9597\n",
      "Epoch 8/15\n",
      "28350/28350 [==============================] - 1s 24us/step - loss: 0.0448 - accuracy: 0.9859 - val_loss: 0.1550 - val_accuracy: 0.9565\n",
      "Epoch 9/15\n",
      "28350/28350 [==============================] - 1s 27us/step - loss: 0.0406 - accuracy: 0.9874 - val_loss: 0.1867 - val_accuracy: 0.9568\n",
      "Epoch 10/15\n",
      "28350/28350 [==============================] - 1s 28us/step - loss: 0.0306 - accuracy: 0.9898 - val_loss: 0.1654 - val_accuracy: 0.9546\n",
      "Epoch 11/15\n",
      "28350/28350 [==============================] - 1s 29us/step - loss: 0.0261 - accuracy: 0.9913 - val_loss: 0.1542 - val_accuracy: 0.9629\n",
      "Epoch 12/15\n",
      "28350/28350 [==============================] - 1s 30us/step - loss: 0.0217 - accuracy: 0.9928 - val_loss: 0.1631 - val_accuracy: 0.9594\n",
      "Epoch 13/15\n",
      "28350/28350 [==============================] - 1s 29us/step - loss: 0.0238 - accuracy: 0.9921 - val_loss: 0.2013 - val_accuracy: 0.9556\n",
      "Epoch 14/15\n",
      "28350/28350 [==============================] - 1s 31us/step - loss: 0.0258 - accuracy: 0.9913 - val_loss: 0.1972 - val_accuracy: 0.9549\n",
      "Epoch 15/15\n",
      "28350/28350 [==============================] - 1s 30us/step - loss: 0.0196 - accuracy: 0.9935 - val_loss: 0.2329 - val_accuracy: 0.9527\n"
     ]
    }
   ],
   "source": [
    "trening = model.fit(X_train, y_train, validation_split=0.1, epochs=15, batch_size=1000)"
   ]
  },
  {
   "cell_type": "code",
   "execution_count": 8,
   "metadata": {},
   "outputs": [
    {
     "data": {
      "text/plain": [
       "<matplotlib.axes._subplots.AxesSubplot at 0x24e1950afc8>"
      ]
     },
     "execution_count": 8,
     "metadata": {},
     "output_type": "execute_result"
    },
    {
     "data": {
      "image/png": "[encoded data removed]",
      "text/plain": [
       "<Figure size 432x288 with 1 Axes>"
      ]
     },
     "metadata": {
      "needs_background": "light"
     },
     "output_type": "display_data"
    }
   ],
   "source": [
    "#Tworzymy wykresy aby zobaczyć jak rosła nasza skuteczność i malała niedokładność\n",
    "losses = pd.DataFrame(model.history.history)\n",
    "losses[['loss','val_loss']].plot()"
   ]
  },
  {
   "cell_type": "code",
   "execution_count": 9,
   "metadata": {},
   "outputs": [
    {
     "data": {
      "text/plain": [
       "<matplotlib.axes._subplots.AxesSubplot at 0x24e19c73f08>"
      ]
     },
     "execution_count": 9,
     "metadata": {},
     "output_type": "execute_result"
    },
    {
     "data": {
      "image/png": "[encoded data removed]",
      "text/plain": [
       "<Figure size 432x288 with 1 Axes>"
      ]
     },
     "metadata": {
      "needs_background": "light"
     },
     "output_type": "display_data"
    }
   ],
   "source": [
    "accuracy = pd.DataFrame(model.history.history)\n",
    "accuracy[['accuracy','val_accuracy']].plot()"
   ]
  },
  {
   "cell_type": "code",
   "execution_count": 10,
   "metadata": {},
   "outputs": [],
   "source": [
    "#Korzystamy z naszega szkolenia, do zidentyfikowania naszego zestawu testowego \n",
    "X_test1 = X_test.reshape(X_test.shape[0], 784) \n",
    "predictions = model.predict_classes(X_test1)\n",
    "results = model.predict(X_test1) "
   ]
  },
  {
   "cell_type": "code",
   "execution_count": 11,
   "metadata": {},
   "outputs": [
    {
     "name": "stdout",
     "output_type": "stream",
     "text": [
      "[4.7760297e-16 3.2142037e-15 1.0000000e+00 5.0587220e-13 7.6855819e-20\n",
      " 1.2755367e-21 6.0184334e-14 3.4078465e-10 1.1882764e-16 1.5500009e-22]\n",
      "2\n"
     ]
    },
    {
     "data": {
      "text/plain": [
       "<matplotlib.image.AxesImage at 0x24e19d90308>"
      ]
     },
     "execution_count": 11,
     "metadata": {},
     "output_type": "execute_result"
    },
    {
     "data": {
      "image/png": "[encoded data removed]",
      "text/plain": [
       "<Figure size 432x288 with 1 Axes>"
      ]
     },
     "metadata": {
      "needs_background": "light"
     },
     "output_type": "display_data"
    }
   ],
   "source": [
    "#Sprawdźimy teraz kilka przypadków\n",
    "print(results[0])\n",
    "print(predictions [0])\n",
    "plt.imshow(X_test[0])"
   ]
  },
  {
   "cell_type": "code",
   "execution_count": 12,
   "metadata": {},
   "outputs": [
    {
     "name": "stdout",
     "output_type": "stream",
     "text": [
      "[8.5553075e-12 4.7142095e-09 7.0963027e-13 3.5910398e-07 9.5906101e-09\n",
      " 2.3533706e-09 2.5751429e-11 4.8800518e-07 1.7212669e-09 9.9999917e-01]\n",
      "9\n"
     ]
    },
    {
     "data": {
      "text/plain": [
       "<matplotlib.image.AxesImage at 0x24e19f191c8>"
      ]
     },
     "execution_count": 12,
     "metadata": {},
     "output_type": "execute_result"
    },
    {
     "data": {
      "image/png": "[encoded data removed]",
      "text/plain": [
       "<Figure size 432x288 with 1 Axes>"
      ]
     },
     "metadata": {
      "needs_background": "light"
     },
     "output_type": "display_data"
    }
   ],
   "source": [
    "print(results[20])\n",
    "print(predictions [20])\n",
    "plt.imshow(X_test[20])"
   ]
  },
  {
   "cell_type": "code",
   "execution_count": 13,
   "metadata": {},
   "outputs": [
    {
     "name": "stdout",
     "output_type": "stream",
     "text": [
      "[2.8281547e-11 9.2329720e-12 1.0388636e-05 6.2479222e-09 1.9318947e-16\n",
      " 4.6832981e-17 2.0025951e-11 9.9998963e-01 1.3007266e-12 2.2356398e-13]\n",
      "7\n"
     ]
    },
    {
     "data": {
      "text/plain": [
       "<matplotlib.image.AxesImage at 0x24e19f7a148>"
      ]
     },
     "execution_count": 13,
     "metadata": {},
     "output_type": "execute_result"
    },
    {
     "data": {
      "image/png": "[encoded data removed]",
      "text/plain": [
       "<Figure size 432x288 with 1 Axes>"
      ]
     },
     "metadata": {
      "needs_background": "light"
     },
     "output_type": "display_data"
    }
   ],
   "source": [
    "print(results[30])\n",
    "print(predictions [30])\n",
    "plt.imshow(X_test[30])"
   ]
  },
  {
   "cell_type": "code",
   "execution_count": 14,
   "metadata": {},
   "outputs": [],
   "source": [
    "dane = {'Wyniki':predictions}"
   ]
  },
  {
   "cell_type": "code",
   "execution_count": 15,
   "metadata": {},
   "outputs": [],
   "source": [
    "df = pd.DataFrame(data = dane)"
   ]
  },
  {
   "cell_type": "code",
   "execution_count": 16,
   "metadata": {},
   "outputs": [
    {
     "data": {
      "text/html": [
       "<div>\n",
       "<style scoped>\n",
       "    .dataframe tbody tr th:only-of-type {\n",
       "        vertical-align: middle;\n",
       "    }\n",
       "\n",
       "    .dataframe tbody tr th {\n",
       "        vertical-align: top;\n",
       "    }\n",
       "\n",
       "    .dataframe thead th {\n",
       "        text-align: right;\n",
       "    }\n",
       "</style>\n",
       "<table border=\"1\" class=\"dataframe\">\n",
       "  <thead>\n",
       "    <tr style=\"text-align: right;\">\n",
       "      <th></th>\n",
       "      <th>Wyniki</th>\n",
       "    </tr>\n",
       "  </thead>\n",
       "  <tbody>\n",
       "    <tr>\n",
       "      <th>0</th>\n",
       "      <td>2</td>\n",
       "    </tr>\n",
       "    <tr>\n",
       "      <th>1</th>\n",
       "      <td>0</td>\n",
       "    </tr>\n",
       "    <tr>\n",
       "      <th>2</th>\n",
       "      <td>9</td>\n",
       "    </tr>\n",
       "    <tr>\n",
       "      <th>3</th>\n",
       "      <td>4</td>\n",
       "    </tr>\n",
       "    <tr>\n",
       "      <th>4</th>\n",
       "      <td>3</td>\n",
       "    </tr>\n",
       "    <tr>\n",
       "      <th>...</th>\n",
       "      <td>...</td>\n",
       "    </tr>\n",
       "    <tr>\n",
       "      <th>27995</th>\n",
       "      <td>9</td>\n",
       "    </tr>\n",
       "    <tr>\n",
       "      <th>27996</th>\n",
       "      <td>7</td>\n",
       "    </tr>\n",
       "    <tr>\n",
       "      <th>27997</th>\n",
       "      <td>3</td>\n",
       "    </tr>\n",
       "    <tr>\n",
       "      <th>27998</th>\n",
       "      <td>9</td>\n",
       "    </tr>\n",
       "    <tr>\n",
       "      <th>27999</th>\n",
       "      <td>2</td>\n",
       "    </tr>\n",
       "  </tbody>\n",
       "</table>\n",
       "<p>28000 rows × 1 columns</p>\n",
       "</div>"
      ],
      "text/plain": [
       "       Wyniki\n",
       "0           2\n",
       "1           0\n",
       "2           9\n",
       "3           4\n",
       "4           3\n",
       "...       ...\n",
       "27995       9\n",
       "27996       7\n",
       "27997       3\n",
       "27998       9\n",
       "27999       2\n",
       "\n",
       "[28000 rows x 1 columns]"
      ]
     },
     "execution_count": 16,
     "metadata": {},
     "output_type": "execute_result"
    }
   ],
   "source": [
    "df"
   ]
  },
  {
   "cell_type": "code",
   "execution_count": 17,
   "metadata": {},
   "outputs": [],
   "source": [
    "#sprawdzamy niektóre błedy \n",
    "check = (train_df.drop(columns= ['label'])).values\n",
    "learned_value = model.predict_classes(check)"
   ]
  },
  {
   "cell_type": "code",
   "execution_count": 18,
   "metadata": {},
   "outputs": [],
   "source": [
    "X_train1 = X_train.reshape(X_train.shape[0], 784) \n",
    "real_value = train_df['label'].values\n",
    "images = check.reshape((42000,28,28))"
   ]
  },
  {
   "cell_type": "code",
   "execution_count": 19,
   "metadata": {},
   "outputs": [
    {
     "name": "stdout",
     "output_type": "stream",
     "text": [
      "Siec poprawnie rozpoznała 98.05952380952381 % \n"
     ]
    }
   ],
   "source": [
    "#Tworzymy funkcje które obliczą ile cyfr źle rozpoznał komputer z tych ktróre wartosci znalizmy od poczatku\n",
    "number_errors = 0 \n",
    "\n",
    "for i in range(42000): \n",
    "    if learned_value[i] != real_value[i]:\n",
    "        number_errors = number_errors + 1\n",
    "effectiveness = ((42000-number_errors)/42000)*100\n",
    "print('Siec poprawnie rozpoznała ' + str(effectiveness) + ' % ')"
   ]
  },
  {
   "cell_type": "code",
   "execution_count": 20,
   "metadata": {},
   "outputs": [],
   "source": [
    "# Tworzymy funkcje ktora znajduje cyfry źle rozpoznane \n",
    "import random\n",
    "show_error = 0 \n",
    "computer_errors =[]\n",
    "real_value_errors =[]\n",
    "images_errors = []\n",
    "for i in range(42000): \n",
    "    if learned_value[i] != real_value[i]:        \n",
    "        computer_errors.append(learned_value[i]),\n",
    "        real_value_errors.append(real_value[i]),\n",
    "        images_errors.append(images[i])"
   ]
  },
  {
   "cell_type": "code",
   "execution_count": 21,
   "metadata": {},
   "outputs": [
    {
     "name": "stdout",
     "output_type": "stream",
     "text": [
      "nauczona wartość: 8\n",
      "rzeczywista wartość: 1\n"
     ]
    },
    {
     "data": {
      "text/plain": [
       "<matplotlib.image.AxesImage at 0x24e29b7df08>"
      ]
     },
     "execution_count": 21,
     "metadata": {},
     "output_type": "execute_result"
    },
    {
     "data": {
      "image/png": "[encoded data removed]",
      "text/plain": [
       "<Figure size 432x288 with 1 Axes>"
      ]
     },
     "metadata": {
      "needs_background": "light"
     },
     "output_type": "display_data"
    }
   ],
   "source": [
    "#pokazemy kilka błedow\n",
    "print('nauczona wartość: ' + str(computer_errors[0]))\n",
    "print('rzeczywista wartość: ' + str(real_value[0]))\n",
    "plt.imshow(images_errors[0])"
   ]
  },
  {
   "cell_type": "code",
   "execution_count": 22,
   "metadata": {},
   "outputs": [
    {
     "name": "stdout",
     "output_type": "stream",
     "text": [
      "nauczona wartość: 2\n",
      "rzeczywista wartość: 7\n"
     ]
    },
    {
     "data": {
      "text/plain": [
       "<matplotlib.image.AxesImage at 0x24e29bdfc48>"
      ]
     },
     "execution_count": 22,
     "metadata": {},
     "output_type": "execute_result"
    },
    {
     "data": {
      "image/png": "[encoded data removed]",
      "text/plain": [
       "<Figure size 432x288 with 1 Axes>"
      ]
     },
     "metadata": {
      "needs_background": "light"
     },
     "output_type": "display_data"
    }
   ],
   "source": [
    "print('nauczona wartość: ' + str(computer_errors[6]))\n",
    "print('rzeczywista wartość: ' + str(real_value[6]))\n",
    "plt.imshow(images_errors[6])"
   ]
  },
  {
   "cell_type": "code",
   "execution_count": 23,
   "metadata": {},
   "outputs": [
    {
     "name": "stdout",
     "output_type": "stream",
     "text": [
      "nauczona wartość: 7\n",
      "rzeczywista wartość: 0\n"
     ]
    },
    {
     "data": {
      "text/plain": [
       "<matplotlib.image.AxesImage at 0x24e29c40888>"
      ]
     },
     "execution_count": 23,
     "metadata": {},
     "output_type": "execute_result"
    },
    {
     "data": {
      "image/png": "[encoded data removed]",
      "text/plain": [
       "<Figure size 432x288 with 1 Axes>"
      ]
     },
     "metadata": {
      "needs_background": "light"
     },
     "output_type": "display_data"
    }
   ],
   "source": [
    "print('nauczona wartość: ' + str(computer_errors[1]))\n",
    "print('rzeczywista wartość: ' + str(real_value[1]))\n",
    "plt.imshow(images_errors[1])"
   ]
  },
  {
   "cell_type": "code",
   "execution_count": 24,
   "metadata": {},
   "outputs": [],
   "source": [
    "result = pd.DataFrame({'ImageId': np.arange(1,len(predictions)+1),'Label' : predictions})"
   ]
  },
  {
   "cell_type": "code",
   "execution_count": 25,
   "metadata": {},
   "outputs": [],
   "source": [
    "result.to_csv(os.getcwd() + '/results.csv',index=False)"
   ]
  }
 ],
 "metadata": {
  "kernelspec": {
   "display_name": "Python 3",
   "language": "python",
   "name": "python3"
  },
  "language_info": {
   "codemirror_mode": {
    "name": "ipython",
    "version": 3
   },
   "file_extension": ".py",
   "mimetype": "text/x-python",
   "name": "python",
   "nbconvert_exporter": "python",
   "pygments_lexer": "ipython3",
   "version": "3.7.6"
  }
 },
 "nbformat": 4,
 "nbformat_minor": 4
}
